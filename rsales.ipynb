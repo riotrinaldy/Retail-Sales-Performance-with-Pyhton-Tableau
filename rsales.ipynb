{
 "cells": [
  {
   "cell_type": "code",
   "execution_count": 2,
   "id": "187ff946-b988-4edc-acfd-5b0eba530dd3",
   "metadata": {},
   "outputs": [
    {
     "name": "stdout",
     "output_type": "stream",
     "text": [
      "     Transaction ID        Date Customer ID  Gender  Age Product Category  \\\n",
      "0                 1  2023-11-24     CUST001    Male   34           Beauty   \n",
      "1                 2  2023-02-27     CUST002  Female   26         Clothing   \n",
      "2                 3  2023-01-13     CUST003    Male   50      Electronics   \n",
      "3                 4  2023-05-21     CUST004    Male   37         Clothing   \n",
      "4                 5  2023-05-06     CUST005    Male   30           Beauty   \n",
      "..              ...         ...         ...     ...  ...              ...   \n",
      "995             996  2023-05-16     CUST996    Male   62         Clothing   \n",
      "996             997  2023-11-17     CUST997    Male   52           Beauty   \n",
      "997             998  2023-10-29     CUST998  Female   23           Beauty   \n",
      "998             999  2023-12-05     CUST999  Female   36      Electronics   \n",
      "999            1000  2023-04-12    CUST1000    Male   47      Electronics   \n",
      "\n",
      "     Quantity  Price per Unit  Total Amount  \n",
      "0           3              50           150  \n",
      "1           2             500          1000  \n",
      "2           1              30            30  \n",
      "3           1             500           500  \n",
      "4           2              50           100  \n",
      "..        ...             ...           ...  \n",
      "995         1              50            50  \n",
      "996         3              30            90  \n",
      "997         4              25           100  \n",
      "998         3              50           150  \n",
      "999         4              30           120  \n",
      "\n",
      "[1000 rows x 9 columns]\n"
     ]
    }
   ],
   "source": [
    "import pandas as pd\n",
    "rsales = pd.read_csv('retail_sales_dataset.csv')\n",
    "\n",
    "print (rsales)"
   ]
  },
  {
   "cell_type": "code",
   "execution_count": 3,
   "id": "53203245-2ad0-4938-83b9-55768460a33c",
   "metadata": {},
   "outputs": [
    {
     "name": "stdout",
     "output_type": "stream",
     "text": [
      "<class 'pandas.core.frame.DataFrame'>\n",
      "RangeIndex: 1000 entries, 0 to 999\n",
      "Data columns (total 9 columns):\n",
      " #   Column            Non-Null Count  Dtype \n",
      "---  ------            --------------  ----- \n",
      " 0   Transaction ID    1000 non-null   int64 \n",
      " 1   Date              1000 non-null   object\n",
      " 2   Customer ID       1000 non-null   object\n",
      " 3   Gender            1000 non-null   object\n",
      " 4   Age               1000 non-null   int64 \n",
      " 5   Product Category  1000 non-null   object\n",
      " 6   Quantity          1000 non-null   int64 \n",
      " 7   Price per Unit    1000 non-null   int64 \n",
      " 8   Total Amount      1000 non-null   int64 \n",
      "dtypes: int64(5), object(4)\n",
      "memory usage: 70.4+ KB\n",
      "None\n"
     ]
    }
   ],
   "source": [
    "print(rsales.info())"
   ]
  },
  {
   "cell_type": "code",
   "execution_count": 5,
   "id": "4e835524-37a7-440a-bd09-890a3ee1e61e",
   "metadata": {},
   "outputs": [
    {
     "name": "stdout",
     "output_type": "stream",
     "text": [
      "   Transaction ID        Date Customer ID  Gender  Age Product Category  \\\n",
      "0               1  2023-11-24     CUST001    Male   34           Beauty   \n",
      "1               2  2023-02-27     CUST002  Female   26         Clothing   \n",
      "2               3  2023-01-13     CUST003    Male   50      Electronics   \n",
      "3               4  2023-05-21     CUST004    Male   37         Clothing   \n",
      "4               5  2023-05-06     CUST005    Male   30           Beauty   \n",
      "\n",
      "   Quantity  Price per Unit  Total Amount  \n",
      "0         3              50           150  \n",
      "1         2             500          1000  \n",
      "2         1              30            30  \n",
      "3         1             500           500  \n",
      "4         2              50           100  \n"
     ]
    }
   ],
   "source": [
    "new_rsales = rsales.dropna()\n",
    "\n",
    "print(new_rsales.head())"
   ]
  },
  {
   "cell_type": "code",
   "execution_count": 7,
   "id": "0a6163d1-1afd-48d6-990b-7541ab3abacb",
   "metadata": {},
   "outputs": [
    {
     "name": "stdout",
     "output_type": "stream",
     "text": [
      "<class 'pandas.core.frame.DataFrame'>\n",
      "RangeIndex: 1000 entries, 0 to 999\n",
      "Data columns (total 9 columns):\n",
      " #   Column            Non-Null Count  Dtype         \n",
      "---  ------            --------------  -----         \n",
      " 0   Transaction ID    1000 non-null   int64         \n",
      " 1   Date              1000 non-null   datetime64[ns]\n",
      " 2   Customer ID       1000 non-null   object        \n",
      " 3   Gender            1000 non-null   object        \n",
      " 4   Age               1000 non-null   int64         \n",
      " 5   Product Category  1000 non-null   object        \n",
      " 6   Quantity          1000 non-null   int64         \n",
      " 7   Price per Unit    1000 non-null   int64         \n",
      " 8   Total Amount      1000 non-null   int64         \n",
      "dtypes: datetime64[ns](1), int64(5), object(3)\n",
      "memory usage: 70.4+ KB\n",
      "None\n"
     ]
    }
   ],
   "source": [
    "new_rsales['Date'] = pd.to_datetime(new_rsales.Date, format='%Y-%m-%d')\n",
    "\n",
    "print (new_rsales.info())"
   ]
  },
  {
   "cell_type": "code",
   "execution_count": 8,
   "id": "2d29660e-6c2a-4a47-9a66-401ee6d9e911",
   "metadata": {},
   "outputs": [
    {
     "name": "stdout",
     "output_type": "stream",
     "text": [
      "0      False\n",
      "1      False\n",
      "2      False\n",
      "3      False\n",
      "4      False\n",
      "       ...  \n",
      "995    False\n",
      "996    False\n",
      "997    False\n",
      "998    False\n",
      "999    False\n",
      "Length: 1000, dtype: bool\n"
     ]
    }
   ],
   "source": [
    "print (new_rsales.duplicated())"
   ]
  },
  {
   "cell_type": "code",
   "execution_count": 9,
   "id": "f36becce-657f-422c-bfcb-f77a99316f29",
   "metadata": {},
   "outputs": [],
   "source": [
    "new_rsales.to_csv('retail_sales2.csv', index=False)"
   ]
  },
  {
   "cell_type": "code",
   "execution_count": null,
   "id": "f2260c66-4acf-4798-8043-379806ee0ad4",
   "metadata": {},
   "outputs": [],
   "source": []
  }
 ],
 "metadata": {
  "kernelspec": {
   "display_name": "Python 3 (ipykernel)",
   "language": "python",
   "name": "python3"
  },
  "language_info": {
   "codemirror_mode": {
    "name": "ipython",
    "version": 3
   },
   "file_extension": ".py",
   "mimetype": "text/x-python",
   "name": "python",
   "nbconvert_exporter": "python",
   "pygments_lexer": "ipython3",
   "version": "3.12.7"
  }
 },
 "nbformat": 4,
 "nbformat_minor": 5
}
